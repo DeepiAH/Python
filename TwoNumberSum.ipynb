{
 "cells": [
  {
   "cell_type": "code",
   "execution_count": 4,
   "id": "1a794a8c-2472-44c5-a381-f131393a0678",
   "metadata": {
    "editable": true,
    "slideshow": {
     "slide_type": ""
    },
    "tags": []
   },
   "outputs": [],
   "source": [
    "def twoNumber():\n",
    "    arr = list(map(int, input(\"Enter array elements separated by spaces: \").split()))\n",
    "    print(\"Array:\", arr)\n",
    "    targetSum=10\n",
    "    for i in range(0,len(arr)-1):\n",
    "        print(range(0,len(arr)-1))\n",
    "        for j in range(1,len(arr)):\n",
    "            if arr[i]+arr[j]==targetSum:\n",
    "             #return arr[j]\n",
    "             print(arr[j],arr[i])\n",
    "            j=j+1\n",
    "        #return arr[i]\n",
    "       # print(arr[i])\n",
    "        i=i+1"
   ]
  },
  {
   "cell_type": "code",
   "execution_count": 8,
   "id": "3e488d03-4df0-4615-a695-16c57ccdcaae",
   "metadata": {},
   "outputs": [
    {
     "name": "stdin",
     "output_type": "stream",
     "text": [
      "Enter array elements separated by spaces:  4 3 5 0 -1 7\n"
     ]
    },
    {
     "name": "stdout",
     "output_type": "stream",
     "text": [
      "Array: [4, 3, 5, 0, -1, 7]\n",
      "range(0, 5)\n",
      "range(0, 5)\n",
      "7 3\n",
      "range(0, 5)\n",
      "5 5\n",
      "range(0, 5)\n",
      "range(0, 5)\n"
     ]
    }
   ],
   "source": [
    "twoNumber()"
   ]
  },
  {
   "cell_type": "code",
   "execution_count": null,
   "id": "b7407446-a096-4960-b6db-c35d3979692d",
   "metadata": {},
   "outputs": [],
   "source": []
  },
  {
   "cell_type": "code",
   "execution_count": null,
   "id": "da648542-7353-4d91-9119-c5265d9d8b29",
   "metadata": {},
   "outputs": [],
   "source": []
  }
 ],
 "metadata": {
  "kernelspec": {
   "display_name": "Python 3.12 (XPython)",
   "language": "python",
   "name": "xpython"
  },
  "language_info": {
   "file_extension": ".py",
   "mimetype": "text/x-python",
   "name": "python",
   "version": "3.12.1"
  }
 },
 "nbformat": 4,
 "nbformat_minor": 5
}
