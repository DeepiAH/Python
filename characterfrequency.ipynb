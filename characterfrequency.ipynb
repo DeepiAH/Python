{
 "cells": [
  {
   "cell_type": "markdown",
   "id": "704ca84f-b95e-44b6-9b7b-2c952781d624",
   "metadata": {},
   "source": [
    "Character frequency\r\n",
    "Description\r\n",
    "Write a program to accept a string value from the user and accept a char value from the user and find out the total occurrence of the char value in the string value. Note that the count is not case-sensitive"
   ]
  },
  {
   "cell_type": "code",
   "execution_count": 5,
   "id": "3013a0de-aff8-43ab-98f3-377353110498",
   "metadata": {},
   "outputs": [
    {
     "name": "stdin",
     "output_type": "stream",
     "text": [
      " i do not i ask doi I oi I\n",
      " i\n"
     ]
    },
    {
     "name": "stdout",
     "output_type": "stream",
     "text": [
      "Enter the string input : i do not i ask doi i oi i\n",
      "Enter the character : i\n",
      "4\n"
     ]
    }
   ],
   "source": [
    "count=0\n",
    "input_string=input()\n",
    "input_char=input()\n",
    "print(\"Enter the string input :\",input_string.lower())\n",
    "print(\"Enter the character :\",input_char.lower())\n",
    "for i in input_string:\n",
    "   if input_char==i:\n",
    "    count+=1\n",
    "print(count)"
   ]
  },
  {
   "cell_type": "code",
   "execution_count": null,
   "id": "9bf5d686-cf7b-4417-a475-118e11151851",
   "metadata": {},
   "outputs": [],
   "source": []
  }
 ],
 "metadata": {
  "kernelspec": {
   "display_name": "Python 3 (ipykernel)",
   "language": "python",
   "name": "python3"
  },
  "language_info": {
   "codemirror_mode": {
    "name": "ipython",
    "version": 3
   },
   "file_extension": ".py",
   "mimetype": "text/x-python",
   "name": "python",
   "nbconvert_exporter": "python",
   "pygments_lexer": "ipython3",
   "version": "3.12.4"
  }
 },
 "nbformat": 4,
 "nbformat_minor": 5
}
